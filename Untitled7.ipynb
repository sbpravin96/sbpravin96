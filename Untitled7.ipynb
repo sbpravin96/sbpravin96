{
 "cells": [
  {
   "cell_type": "code",
   "execution_count": 1,
   "id": "c92aa23a-022b-4c5c-9fdd-d71e139c4028",
   "metadata": {},
   "outputs": [],
   "source": [
    "# Data Science and Programming Exercises"
   ]
  },
  {
   "cell_type": "code",
   "execution_count": 2,
   "id": "0109f2a5-5277-419c-b40d-0eda8d0399ab",
   "metadata": {},
   "outputs": [],
   "source": [
    "## Introduction"
   ]
  },
  {
   "cell_type": "code",
   "execution_count": 8,
   "id": "8426223b-9e66-4e1b-aea9-62030ae23c27",
   "metadata": {},
   "outputs": [
    {
     "ename": "NameError",
     "evalue": "name 'Python' is not defined",
     "output_type": "error",
     "traceback": [
      "\u001b[1;31m---------------------------------------------------------------------------\u001b[0m",
      "\u001b[1;31mNameError\u001b[0m                                 Traceback (most recent call last)",
      "Cell \u001b[1;32mIn[8], line 2\u001b[0m\n\u001b[0;32m      1\u001b[0m \u001b[38;5;28mlist\u001b[39m \n\u001b[1;32m----> 2\u001b[0m \u001b[38;5;241m-\u001b[39m Python\n\u001b[0;32m      3\u001b[0m \u001b[38;5;241m-\u001b[39m R\n\u001b[0;32m      4\u001b[0m \u001b[38;5;241m-\u001b[39m SQL\n",
      "\u001b[1;31mNameError\u001b[0m: name 'Python' is not defined"
     ]
    }
   ],
   "source": [
    "#list \n",
    "##Python\n",
    "##R\n",
    "##SQL\n",
    "##Julia\n",
    "##Scala"
   ]
  },
  {
   "cell_type": "code",
   "execution_count": 10,
   "id": "69dff297-db9b-4e7b-a60c-75164c10d252",
   "metadata": {},
   "outputs": [],
   "source": [
    "# Data Sciences Libraries\n",
    "##data science libraries are essential for data manimuplation, visualization and analysis\n",
    "##Numpy\n",
    "##pandas\n",
    "##matplotlib\n",
    "##Scikit-learn\n",
    "##Tensorflow"
   ]
  },
  {
   "cell_type": "code",
   "execution_count": 12,
   "id": "0bca5a2b-47e5-4ed2-a4fd-8510aec74df1",
   "metadata": {},
   "outputs": [
    {
     "ename": "SyntaxError",
     "evalue": "invalid syntax (1614413871.py, line 1)",
     "output_type": "error",
     "traceback": [
      "\u001b[1;36m  Cell \u001b[1;32mIn[12], line 1\u001b[1;36m\u001b[0m\n\u001b[1;33m    Tool             | category |\u001b[0m\n\u001b[1;37m                                 ^\u001b[0m\n\u001b[1;31mSyntaxError\u001b[0m\u001b[1;31m:\u001b[0m invalid syntax\n"
     ]
    }
   ],
   "source": [
    "##Tool             | category |\n",
    "##Juypter Notebook | Development Environment |\n",
    "Github           | Version control    |\n",
    "Apache Spark     | Big data processing\n",
    "Tableau          | Data Visualization\n",
    "Anaconda         | Python distribution |\n",
    "\n",
    "\n",
    "## Arthmetic Expression Examples\n",
    "    In this section , basic arthmetic expression in python\n",
    "a = 3\n",
    "b = 10\n",
    "result = (a * b) + 20\n",
    "result"
   ]
  },
  {
   "cell_type": "code",
   "execution_count": null,
   "id": "52012683-fc8f-4925-bc73-4320eb6de84b",
   "metadata": {},
   "outputs": [],
   "source": [
    "def convert_minutes_to_hrs(minutes)\n",
    "    hrs = minutes / 60\n",
    "    return hrs\n",
    "minutes = 120\n",
    "hrs = convert_minutes_to_hrs(minutes)\n",
    "hrs"
   ]
  },
  {
   "cell_type": "code",
   "execution_count": null,
   "id": "2b6cc36b-0d58-4489-bc77-c49ae65ab871",
   "metadata": {},
   "outputs": [],
   "source": []
  }
 ],
 "metadata": {
  "kernelspec": {
   "display_name": "Python 3 (ipykernel)",
   "language": "python",
   "name": "python3"
  },
  "language_info": {
   "codemirror_mode": {
    "name": "ipython",
    "version": 3
   },
   "file_extension": ".py",
   "mimetype": "text/x-python",
   "name": "python",
   "nbconvert_exporter": "python",
   "pygments_lexer": "ipython3",
   "version": "3.12.4"
  }
 },
 "nbformat": 4,
 "nbformat_minor": 5
}
