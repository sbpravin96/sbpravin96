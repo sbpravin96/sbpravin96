{
 "cells": [
  {
   "cell_type": "code",
   "execution_count": 1,
   "id": "c92aa23a-022b-4c5c-9fdd-d71e139c4028",
   "metadata": {},
   "outputs": [],
   "source": [
    "# Data Science and Programming Exercises"
   ]
  },
  {
   "cell_type": "code",
   "execution_count": 2,
   "id": "0109f2a5-5277-419c-b40d-0eda8d0399ab",
   "metadata": {},
   "outputs": [],
   "source": [
    "## Introduction"
   ]
  },
  {
   "cell_type": "code",
   "execution_count": 3,
   "id": "8426223b-9e66-4e1b-aea9-62030ae23c27",
   "metadata": {},
   "outputs": [],
   "source": [
    "#list \n",
    "##Python\n",
    "##R\n",
    "##SQL\n",
    "##Julia\n",
    "##Scala"
   ]
  },
  {
   "cell_type": "code",
   "execution_count": 4,
   "id": "69dff297-db9b-4e7b-a60c-75164c10d252",
   "metadata": {},
   "outputs": [],
   "source": [
    "# Data Sciences Libraries"
   ]
  },
  {
   "cell_type": "code",
   "execution_count": 5,
   "id": "6c9ee894-d83d-45ea-b3b4-ab7f90296959",
   "metadata": {},
   "outputs": [],
   "source": [
    "##data science libraries are essential for data manimuplation, visualization and analysis\n",
    "##Numpy\n",
    "##pandas\n",
    "##matplotlib\n",
    "##Scikit-learn\n",
    "##Tensorflow"
   ]
  },
  {
   "cell_type": "code",
   "execution_count": 6,
   "id": "0bca5a2b-47e5-4ed2-a4fd-8510aec74df1",
   "metadata": {},
   "outputs": [],
   "source": [
    "##Tool             | category |\n",
    "##Juypter Notebook | Development Environment |\n",
    "##Github           | Version control    |\n",
    "##Apache Spark     | Big data processing\n",
    "##Tableau          | Data Visualization\n",
    "##Anaconda         | Python distribution |\n",
    "\n",
    "\n"
   ]
  },
  {
   "cell_type": "code",
   "execution_count": 7,
   "id": "dcfb5ab7-6050-452e-a6b6-20d452cbb04e",
   "metadata": {},
   "outputs": [
    {
     "data": {
      "text/plain": [
       "50"
      ]
     },
     "execution_count": 7,
     "metadata": {},
     "output_type": "execute_result"
    }
   ],
   "source": [
    "## Arthmetic Expression Examples\n",
    "    #In this section , basic arthmetic expression in python\n",
    "a = 3\n",
    "b = 10\n",
    "result = (a * b) + 20\n",
    "result"
   ]
  },
  {
   "cell_type": "code",
   "execution_count": 8,
   "id": "52012683-fc8f-4925-bc73-4320eb6de84b",
   "metadata": {},
   "outputs": [],
   "source": [
    "def convert_minutes_to_hrs(minutes) :\n",
    "    hrs = minutes / 60\n",
    "    return hrs\n"
   ]
  },
  {
   "cell_type": "code",
   "execution_count": 9,
   "id": "2e6b7f03-15df-43e7-87ea-d92d323b3de2",
   "metadata": {},
   "outputs": [
    {
     "data": {
      "text/plain": [
       "2.0"
      ]
     },
     "execution_count": 9,
     "metadata": {},
     "output_type": "execute_result"
    }
   ],
   "source": [
    "minutes = 120\n",
    "hrs = convert_minutes_to_hrs(minutes)\n",
    "hrs"
   ]
  },
  {
   "cell_type": "code",
   "execution_count": null,
   "id": "2b6cc36b-0d58-4489-bc77-c49ae65ab871",
   "metadata": {},
   "outputs": [],
   "source": [
    "** the main objectives of the notebook are **\n",
    "# understand basics of markdown \n",
    "# learn language and libraries\n",
    "# implement basic arithmetic using CODES\n",
    "# Use and Test GITHUB\n",
    "# practice working with table and formatting"
   ]
  }
 ],
 "metadata": {
  "kernelspec": {
   "display_name": "Python 3 (ipykernel)",
   "language": "python",
   "name": "python3"
  },
  "language_info": {
   "codemirror_mode": {
    "name": "ipython",
    "version": 3
   },
   "file_extension": ".py",
   "mimetype": "text/x-python",
   "name": "python",
   "nbconvert_exporter": "python",
   "pygments_lexer": "ipython3",
   "version": "3.12.4"
  }
 },
 "nbformat": 4,
 "nbformat_minor": 5
}
